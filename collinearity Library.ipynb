{
 "cells": [
  {
   "cell_type": "code",
   "execution_count": 1,
   "metadata": {},
   "outputs": [
    {
     "name": "stdout",
     "output_type": "stream",
     "text": [
      "Collecting collinearity==0.6.1\n",
      "  Downloading collinearity-0.6.1.tar.gz (5.0 kB)\n",
      "Requirement already satisfied: numpy in c:\\users\\ujwal\\anaconda3\\lib\\site-packages (from collinearity==0.6.1) (1.19.2)\n",
      "Requirement already satisfied: scikit-learn in c:\\users\\ujwal\\anaconda3\\lib\\site-packages (from collinearity==0.6.1) (0.23.2)\n",
      "Note: you may need to restart the kernel to use updated packages.Requirement already satisfied: threadpoolctl>=2.0.0 in c:\\users\\ujwal\\anaconda3\\lib\\site-packages (from scikit-learn->collinearity==0.6.1) (2.1.0)\n",
      "Requirement already satisfied: joblib>=0.11 in c:\\users\\ujwal\\anaconda3\\lib\\site-packages (from scikit-learn->collinearity==0.6.1) (0.17.0)\n",
      "Requirement already satisfied: scipy>=0.19.1 in c:\\users\\ujwal\\anaconda3\\lib\\site-packages (from scikit-learn->collinearity==0.6.1) (1.5.2)\n",
      "Building wheels for collected packages: collinearity\n",
      "  Building wheel for collinearity (setup.py): started\n",
      "  Building wheel for collinearity (setup.py): finished with status 'done'\n",
      "  Created wheel for collinearity: filename=collinearity-0.6.1-py3-none-any.whl size=4466 sha256=33e61a1a6649297b82355ae2ee644538e972ab0123f7aad6bc49654892fe8d07\n",
      "  Stored in directory: c:\\users\\ujwal\\appdata\\local\\pip\\cache\\wheels\\4e\\0f\\c8\\efd9c4ae0abdb392be9b9ce5a38b41ccd2d519b5367ecce570\n",
      "Successfully built collinearity\n",
      "Installing collected packages: collinearity\n",
      "Successfully installed collinearity-0.6.1\n",
      "\n"
     ]
    }
   ],
   "source": [
    "# Install the Library\n",
    "#pip install collinearity==0.6.1"
   ]
  },
  {
   "cell_type": "markdown",
   "metadata": {},
   "source": [
    "## Objects in collinearity\n",
    "The main object is SelectNonCollinear. It can be imported this way:\n",
    "\n",
    "from collinearity import SelectNonCollinear\n",
    "collinearity.SelectNonCollinear(correlation_threshold=0.4, scoring=f_classif)\n",
    "\n",
    "Parameters:\n",
    "\n",
    "correlation_threshold : float (between 0 and 1), default = 0.4\n",
    "\n",
    "Only those features that produce a correlation matrix with off-diagonal elements that are, in absolute value, less than this threshold will be chosen.\n",
    "\n",
    "scoring : callable, default=f_classif\n",
    "\n",
    "The scoring function for supervised problems. It must be the same accepted by sklearn.feature_selection.SelectKBest."
   ]
  },
  {
   "cell_type": "markdown",
   "metadata": {},
   "source": [
    "## Methods in collinearity\n",
    "This object supports the main methods of scikit-learn Estimators:\n",
    "\n",
    "fit(X,y=None)\n",
    "\n",
    "Identifies the features to consider. For supervised problems, y is the target array and the algorithm is:\n",
    "\n",
    "Sort the features by scoring descending\n",
    "Take the most important feature (i.e. the first feature)\n",
    "Take the next feature if it shows a linear correlation coefficient with the already selected feature that is, in absolute value, lower than the threshold\n",
    "Keep adding features as long as the correlation constraint holds\n",
    "For unsupervised problems, we have y = None and the algorithm is:\n",
    "\n",
    "Take the couple of features that have the lowest absolute value of the linear correlation coefficient.\n",
    "If it's lower than the threshold, consider these features\n",
    "Keep adding features as long as the correlation matrix doesn't show off-diagonal elements whose absolute value is greater than the threshold.\n",
    "transform(X)\n",
    "\n",
    "Selects the features according to the result of fit. It must be called after fit.\n",
    "\n",
    "fit_transform(X,y=None)\n",
    "\n",
    "Calls fit and then transform\n",
    "\n",
    "get_support()\n",
    "\n",
    "Returns an array of True and False of size X.shape[1]. A feature is selected if the value on this array corresponding to its index is True, otherwise it's not selected.\n",
    "\n",
    "Examples"
   ]
  },
  {
   "cell_type": "code",
   "execution_count": 2,
   "metadata": {},
   "outputs": [],
   "source": [
    "from collinearity import SelectNonCollinear"
   ]
  },
  {
   "cell_type": "code",
   "execution_count": 3,
   "metadata": {},
   "outputs": [],
   "source": [
    "from collinearity import SelectNonCollinear\n",
    "from sklearn.feature_selection import f_regression\n",
    "import numpy as np\n",
    "from sklearn.datasets import load_diabetes\n",
    "\n",
    "X,y = load_diabetes(return_X_y=True)"
   ]
  },
  {
   "cell_type": "markdown",
   "metadata": {},
   "source": [
    "## Unsupervised problem "
   ]
  },
  {
   "cell_type": "code",
   "execution_count": 5,
   "metadata": {},
   "outputs": [],
   "source": [
    "# Taking the threshold as 0.3\n",
    "\n",
    "selector = SelectNonCollinear(0.3)"
   ]
  },
  {
   "cell_type": "code",
   "execution_count": null,
   "metadata": {},
   "outputs": [],
   "source": [
    "# Applying selection to the features and calculating the correlation matrix"
   ]
  },
  {
   "cell_type": "code",
   "execution_count": 6,
   "metadata": {},
   "outputs": [
    {
     "data": {
      "text/plain": [
       "array([[1.        , 0.1737371 , 0.18508467, 0.26006082],\n",
       "       [0.1737371 , 1.        , 0.0881614 , 0.03527682],\n",
       "       [0.18508467, 0.0881614 , 1.        , 0.24977742],\n",
       "       [0.26006082, 0.03527682, 0.24977742, 1.        ]])"
      ]
     },
     "execution_count": 6,
     "metadata": {},
     "output_type": "execute_result"
    }
   ],
   "source": [
    "np.corrcoef(selector.fit_transform(X),rowvar=False)\n",
    "# no off-diagonal element is greater than the threshold."
   ]
  },
  {
   "cell_type": "markdown",
   "metadata": {},
   "source": [
    "## Supervised problems"
   ]
  },
  {
   "cell_type": "code",
   "execution_count": 7,
   "metadata": {},
   "outputs": [],
   "source": [
    "# Must to set the value of the 'scoring' argument in the constructor\n",
    "\n",
    "selector = SelectNonCollinear(correlation_threshold=0.4,scoring=f_regression)\n",
    "selector.fit(X,y)\n"
   ]
  },
  {
   "cell_type": "code",
   "execution_count": 8,
   "metadata": {},
   "outputs": [
    {
     "data": {
      "text/plain": [
       "array([[1.        , 0.1737371 , 0.18508467, 0.26006082],\n",
       "       [0.1737371 , 1.        , 0.0881614 , 0.03527682],\n",
       "       [0.18508467, 0.0881614 , 1.        , 0.24977742],\n",
       "       [0.26006082, 0.03527682, 0.24977742, 1.        ]])"
      ]
     },
     "execution_count": 8,
     "metadata": {},
     "output_type": "execute_result"
    }
   ],
   "source": [
    "np.corrcoef(selector.transform(X),rowvar=False)\n",
    "# Again, no off-diagonal element is greater than the threshold in absolute value."
   ]
  },
  {
   "cell_type": "markdown",
   "metadata": {},
   "source": [
    "## Use in pipelines\n",
    "\n",
    "Its possible to use 'SelectNonCollinear' inside a pipeline, if neccesary."
   ]
  },
  {
   "cell_type": "code",
   "execution_count": null,
   "metadata": {},
   "outputs": [],
   "source": [
    "#pipeline = make_pipeline(SelectNonCollinear(correlation_threshold=0.4, scoring=f_regression), LinearRegression())"
   ]
  },
  {
   "cell_type": "code",
   "execution_count": null,
   "metadata": {},
   "outputs": [],
   "source": []
  }
 ],
 "metadata": {
  "kernelspec": {
   "display_name": "Python 3",
   "language": "python",
   "name": "python3"
  },
  "language_info": {
   "codemirror_mode": {
    "name": "ipython",
    "version": 3
   },
   "file_extension": ".py",
   "mimetype": "text/x-python",
   "name": "python",
   "nbconvert_exporter": "python",
   "pygments_lexer": "ipython3",
   "version": "3.8.5"
  }
 },
 "nbformat": 4,
 "nbformat_minor": 4
}
